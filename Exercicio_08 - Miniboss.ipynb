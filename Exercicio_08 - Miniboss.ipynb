{
 "cells": [
  {
   "cell_type": "code",
   "execution_count": 1,
   "id": "653d4199-6f1d-4013-89b1-c7b209c15aa5",
   "metadata": {},
   "outputs": [],
   "source": [
    "import pandas as pd"
   ]
  },
  {
   "cell_type": "code",
   "execution_count": 23,
   "id": "3fbcfee1-569a-4977-8093-62f8b57db095",
   "metadata": {},
   "outputs": [
    {
     "name": "stdout",
     "output_type": "stream",
     "text": [
      "Informações númericas: \n",
      "       release_year\n",
      "count   8817.000000\n",
      "mean    2014.180333\n",
      "std        8.817990\n",
      "min     1925.000000\n",
      "25%     2013.000000\n",
      "50%     2017.000000\n",
      "75%     2019.000000\n",
      "max     2021.000000\n",
      "\n",
      "Dados duplicados encontrados: 6\n",
      "\n",
      "Primeiros registros após a limpeza: \n",
      "   show_id     type                          title             director  \\\n",
      "7       s8    Movie                        Sankofa         Haile Gerima   \n",
      "8       s9  TV Show  The Great British Baking Show      Andy Devonshire   \n",
      "9      s10    Movie                   The Starling       Theodore Melfi   \n",
      "12     s13    Movie                   Je Suis Karl  Christian Schwochow   \n",
      "24     s25    Movie                          Jeans           S. Shankar   \n",
      "\n",
      "                                                 cast  \\\n",
      "7   Kofi Ghanaba, Oyafunmike Ogunlano, Alexandra D...   \n",
      "8   Mel Giedroyc, Sue Perkins, Mary Berry, Paul Ho...   \n",
      "9   Melissa McCarthy, Chris O'Dowd, Kevin Kline, T...   \n",
      "12  Luna Wedler, Jannis Niewöhner, Milan Peschel, ...   \n",
      "24  Prashanth, Aishwarya Rai Bachchan, Sri Lakshmi...   \n",
      "\n",
      "                                              country          date_added  \\\n",
      "7   United States, Ghana, Burkina Faso, United Kin...  September 24, 2021   \n",
      "8                                      United Kingdom  September 24, 2021   \n",
      "9                                       United States  September 24, 2021   \n",
      "12                            Germany, Czech Republic  September 23, 2021   \n",
      "24                                              India  September 21, 2021   \n",
      "\n",
      "    release_year rating                                        description  \n",
      "7           1993  TV-MA  On a photo shoot in Ghana, an American model s...  \n",
      "8           2021  TV-14  A talented batch of amateur bakers face off in...  \n",
      "9           2021  PG-13  A woman adjusting to life after a loss contend...  \n",
      "12          2021  TV-MA  After most of her family is murdered in a terr...  \n",
      "24          1998  TV-14  When the father of the man she loves insists t...  \n"
     ]
    }
   ],
   "source": [
    "catalogo = 'netflix.csv'\n",
    "df = pd.read_csv(catalogo)\n",
    "\n",
    "print (\"Informações númericas: \")\n",
    "print (df.describe())\n",
    "\n",
    "df_limpar = df.dropna()\n",
    "\n",
    "duplicados = df_limpar.duplicated().sum()\n",
    "print(f\"\\nDados duplicados encontrados: {duplicados}\")\n",
    "\n",
    "df_limpar = df_clean.drop_duplicates()\n",
    "\n",
    "df_limpar = df_limpar.drop(columns=['listed_in', 'duration'])\n",
    "\n",
    "print ('\\nPrimeiros registros após a limpeza: ')\n",
    "print (df_limpar.head())\n"
   ]
  }
 ],
 "metadata": {
  "kernelspec": {
   "display_name": "Python 3 (ipykernel)",
   "language": "python",
   "name": "python3"
  },
  "language_info": {
   "codemirror_mode": {
    "name": "ipython",
    "version": 3
   },
   "file_extension": ".py",
   "mimetype": "text/x-python",
   "name": "python",
   "nbconvert_exporter": "python",
   "pygments_lexer": "ipython3",
   "version": "3.12.4"
  }
 },
 "nbformat": 4,
 "nbformat_minor": 5
}
