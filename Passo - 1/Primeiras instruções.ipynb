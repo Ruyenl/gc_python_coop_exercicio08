{
 "cells": [
  {
   "cell_type": "code",
   "execution_count": 17,
   "id": "bf2302aa-0da0-469b-aac9-7fabe801147a",
   "metadata": {},
   "outputs": [],
   "source": [
    "import pandas as pd"
   ]
  },
  {
   "cell_type": "code",
   "execution_count": 18,
   "id": "f118c20c-4205-4223-93d8-1d08494aa20e",
   "metadata": {},
   "outputs": [],
   "source": [
    "catalogo = pd.read_csv('./netflix.csv')"
   ]
  },
  {
   "cell_type": "code",
   "execution_count": 19,
   "id": "d51988e2-d91f-4d45-960a-5abc02ea95c5",
   "metadata": {},
   "outputs": [],
   "source": [
    "catalogo.head()"
   ]
  },
  {
   "cell_type": "code",
   "execution_count": 20,
   "id": "02fad22b-ad59-4b9f-b5c6-08d08e7d63a6",
   "metadata": {},
   "outputs": [],
   "source": [
    "catalogo.describe()"
   ]
  },
  {
   "cell_type": "code",
   "execution_count": 27,
   "id": "19b14bff-a8d9-4a38-a315-10c872ef46cd",
   "metadata": {},
   "outputs": [],
   "source": [
    "valores_nulos = catalogo.isnull().sum()"
   ]
  },
  {
   "cell_type": "code",
   "execution_count": 28,
   "id": "771ccb7b-f96a-4317-938d-c2497d977805",
   "metadata": {},
   "outputs": [
    {
     "data": {
      "text/plain": [
       "show_id            0\n",
       "type               0\n",
       "title              0\n",
       "director        2638\n",
       "cast             825\n",
       "country          832\n",
       "date_added        10\n",
       "release_year       0\n",
       "rating             4\n",
       "duration           3\n",
       "listed_in          0\n",
       "description        0\n",
       "dtype: int64"
      ]
     },
     "execution_count": 28,
     "metadata": {},
     "output_type": "execute_result"
    }
   ],
   "source": [
    "valores_nulos"
   ]
  }
 ],
 "metadata": {
  "kernelspec": {
   "display_name": "Python 3 (ipykernel)",
   "language": "python",
   "name": "python3"
  },
  "language_info": {
   "codemirror_mode": {
    "name": "ipython",
    "version": 3
   },
   "file_extension": ".py",
   "mimetype": "text/x-python",
   "name": "python",
   "nbconvert_exporter": "python",
   "pygments_lexer": "ipython3",
   "version": "3.12.4"
  }
 },
 "nbformat": 4,
 "nbformat_minor": 5
}
